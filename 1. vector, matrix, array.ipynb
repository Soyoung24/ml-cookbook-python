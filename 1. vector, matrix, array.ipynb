{
 "cells": [
  {
   "cell_type": "markdown",
   "id": "1a567836",
   "metadata": {},
   "source": [
    "## CH1 벡터, 행렬, 배열"
   ]
  },
  {
   "cell_type": "markdown",
   "id": "ea8139e3",
   "metadata": {},
   "source": [
    "### 1.1 벡터 만들기"
   ]
  },
  {
   "cell_type": "code",
   "execution_count": 1,
   "id": "f1bdafe8",
   "metadata": {},
   "outputs": [],
   "source": [
    "import numpy as np"
   ]
  },
  {
   "cell_type": "code",
   "execution_count": 3,
   "id": "1945b640",
   "metadata": {},
   "outputs": [
    {
     "data": {
      "text/plain": [
       "array([1, 2, 3])"
      ]
     },
     "execution_count": 3,
     "metadata": {},
     "output_type": "execute_result"
    }
   ],
   "source": [
    "# 행이 하나인 벡터\n",
    "vector_row = np.array([1,2,3])\n",
    "vector_row"
   ]
  },
  {
   "cell_type": "code",
   "execution_count": 6,
   "id": "d71d7d0f",
   "metadata": {},
   "outputs": [
    {
     "data": {
      "text/plain": [
       "array([[1],\n",
       "       [2],\n",
       "       [3]])"
      ]
     },
     "execution_count": 6,
     "metadata": {},
     "output_type": "execute_result"
    }
   ],
   "source": [
    "# 열이 하나인 벡터\n",
    "vector_col = np.array([[1],\n",
    "                       [2],\n",
    "                       [3]])\n",
    "vector_col"
   ]
  },
  {
   "cell_type": "markdown",
   "id": "209495ab",
   "metadata": {},
   "source": [
    "넘파이 배열은 ndarray 클래스의 객체이다.  \n",
    "즉, type이 ndarray"
   ]
  },
  {
   "cell_type": "code",
   "execution_count": 7,
   "id": "64e65394",
   "metadata": {},
   "outputs": [
    {
     "name": "stdout",
     "output_type": "stream",
     "text": [
      "<class 'numpy.ndarray'>\n"
     ]
    }
   ],
   "source": [
    "print(type(vector_col))"
   ]
  },
  {
   "cell_type": "code",
   "execution_count": 9,
   "id": "a0e2f8bb",
   "metadata": {},
   "outputs": [
    {
     "data": {
      "text/plain": [
       "array([4.67460539e-310, 0.00000000e+000, 4.67460339e-310])"
      ]
     },
     "execution_count": 9,
     "metadata": {},
     "output_type": "execute_result"
    }
   ],
   "source": [
    "bad_way = np.ndarray((3,))\n",
    "bad_way"
   ]
  },
  {
   "cell_type": "code",
   "execution_count": 11,
   "id": "d1243539",
   "metadata": {},
   "outputs": [
    {
     "data": {
      "text/plain": [
       "array([1, 2, 3])"
      ]
     },
     "execution_count": 11,
     "metadata": {},
     "output_type": "execute_result"
    }
   ],
   "source": [
    "new_row = np.asarray([1,2,3])\n",
    "new_row"
   ]
  },
  {
   "cell_type": "code",
   "execution_count": 14,
   "id": "f5923710",
   "metadata": {},
   "outputs": [
    {
     "data": {
      "text/plain": [
       "True"
      ]
     },
     "execution_count": 14,
     "metadata": {},
     "output_type": "execute_result"
    }
   ],
   "source": [
    "# asarray는 새로운 배열을 만들지 않는다.\n",
    "new_row = np.asarray(vector_row)\n",
    "new_row is vector_row"
   ]
  },
  {
   "cell_type": "code",
   "execution_count": 16,
   "id": "3341dca3",
   "metadata": {},
   "outputs": [
    {
     "data": {
      "text/plain": [
       "False"
      ]
     },
     "execution_count": 16,
     "metadata": {},
     "output_type": "execute_result"
    }
   ],
   "source": [
    "# array는 배열이 입력되면 새로운 배열을 만든다.\n",
    "new_row = np.array(vector_row)\n",
    "new_row is vector_row"
   ]
  },
  {
   "cell_type": "code",
   "execution_count": 17,
   "id": "eeb86193",
   "metadata": {},
   "outputs": [
    {
     "data": {
      "text/plain": [
       "False"
      ]
     },
     "execution_count": 17,
     "metadata": {},
     "output_type": "execute_result"
    }
   ],
   "source": [
    "new_row = vector_row.copy()\n",
    "new_row is vector_row"
   ]
  },
  {
   "cell_type": "markdown",
   "id": "4241b964",
   "metadata": {},
   "source": [
    "### 1.2 행렬 만들기"
   ]
  },
  {
   "cell_type": "code",
   "execution_count": 20,
   "id": "203126f4",
   "metadata": {},
   "outputs": [
    {
     "data": {
      "text/plain": [
       "array([[1, 2],\n",
       "       [1, 2],\n",
       "       [1, 2]])"
      ]
     },
     "execution_count": 20,
     "metadata": {},
     "output_type": "execute_result"
    }
   ],
   "source": [
    "# array로 행렬 만들기\n",
    "matrix = np.array([[1,2],\n",
    "                   [1,2],\n",
    "                   [1,2]])\n",
    "matrix"
   ]
  },
  {
   "cell_type": "code",
   "execution_count": 22,
   "id": "d07b5dae",
   "metadata": {},
   "outputs": [
    {
     "data": {
      "text/plain": [
       "matrix([[1, 2],\n",
       "        [1, 2],\n",
       "        [1, 2]])"
      ]
     },
     "execution_count": 22,
     "metadata": {},
     "output_type": "execute_result"
    }
   ],
   "source": [
    "# 이 구조는 추천X \n",
    "# array가 넘파이 표준 데이터 구조\n",
    "# 대부분 넘파이 함수는 행렬 객체가 아니라 배열을 반환한다.\n",
    "\n",
    "matrix_object = np.mat([[1,2],\n",
    "                        [1,2],\n",
    "                        [1,2]])\n",
    "matrix_object"
   ]
  },
  {
   "cell_type": "code",
   "execution_count": 23,
   "id": "103f3335",
   "metadata": {},
   "outputs": [
    {
     "data": {
      "text/plain": [
       "array([[5.e-324, 1.e-323],\n",
       "       [5.e-324, 1.e-323],\n",
       "       [5.e-324, 1.e-323]])"
      ]
     },
     "execution_count": 23,
     "metadata": {},
     "output_type": "execute_result"
    }
   ],
   "source": [
    "# 임의의 값 채워진 배열 만들기 \n",
    "empty_matrix = np.empty((3,2))\n",
    "empty_matrix"
   ]
  },
  {
   "cell_type": "code",
   "execution_count": 24,
   "id": "81db447e",
   "metadata": {},
   "outputs": [
    {
     "data": {
      "text/plain": [
       "array([[0., 0.],\n",
       "       [0., 0.],\n",
       "       [0., 0.]])"
      ]
     },
     "execution_count": 24,
     "metadata": {},
     "output_type": "execute_result"
    }
   ],
   "source": [
    "zero_matrix = np.zeros((3,2))\n",
    "zero_matrix"
   ]
  },
  {
   "cell_type": "code",
   "execution_count": 25,
   "id": "c299601f",
   "metadata": {},
   "outputs": [
    {
     "data": {
      "text/plain": [
       "array([[1., 1.],\n",
       "       [1., 1.],\n",
       "       [1., 1.]])"
      ]
     },
     "execution_count": 25,
     "metadata": {},
     "output_type": "execute_result"
    }
   ],
   "source": [
    "one_matrix = np.ones((3,2))\n",
    "one_matrix"
   ]
  },
  {
   "cell_type": "code",
   "execution_count": 27,
   "id": "a7b6ae1b",
   "metadata": {},
   "outputs": [
    {
     "data": {
      "text/plain": [
       "array([[7, 7],\n",
       "       [7, 7],\n",
       "       [7, 7]])"
      ]
     },
     "execution_count": 27,
     "metadata": {},
     "output_type": "execute_result"
    }
   ],
   "source": [
    "seven_matrix = np.full((3,2),7)\n",
    "seven_matrix"
   ]
  },
  {
   "cell_type": "markdown",
   "id": "ee95fc25",
   "metadata": {},
   "source": [
    "### 1.3 희소 행렬 만들기\n",
    "데이터에 0이 아닌 값이 매우 적을 때 이를 효율적으로 표현하고 싶음.  "
   ]
  },
  {
   "cell_type": "code",
   "execution_count": 28,
   "id": "5623db71",
   "metadata": {},
   "outputs": [],
   "source": [
    "import numpy as np\n",
    "from scipy import sparse"
   ]
  },
  {
   "cell_type": "code",
   "execution_count": 29,
   "id": "2d3ca2fc",
   "metadata": {},
   "outputs": [
    {
     "data": {
      "text/plain": [
       "array([[0, 0],\n",
       "       [0, 1],\n",
       "       [3, 0]])"
      ]
     },
     "execution_count": 29,
     "metadata": {},
     "output_type": "execute_result"
    }
   ],
   "source": [
    "# 행렬 만들기\n",
    "matrix = np.array([[0,0],\n",
    "                   [0,1],\n",
    "                   [3,0]])\n",
    "matrix"
   ]
  },
  {
   "cell_type": "code",
   "execution_count": 32,
   "id": "cdbf861e",
   "metadata": {},
   "outputs": [
    {
     "name": "stdout",
     "output_type": "stream",
     "text": [
      "  (1, 1)\t1\n",
      "  (2, 0)\t3\n"
     ]
    }
   ],
   "source": [
    "# csr 행렬 만들기\n",
    "matrix_sparse = sparse.csr_matrix(matrix)\n",
    "print(matrix_sparse)"
   ]
  },
  {
   "cell_type": "markdown",
   "id": "4bde4886",
   "metadata": {},
   "source": [
    "희소 행렬은 0이 아닌 원소만 저장한다.  \n",
    "csr(compressed sparse row)행렬에서 (1,1), (2,0)은 0이 아닌 값인 1과 3의 인덱스를 각각 나타낸다.  \n",
    "즉, 1은 두번째 행의 두 번째 열에 있는 원소이다.  "
   ]
  },
  {
   "cell_type": "code",
   "execution_count": 33,
   "id": "9ff60ef4",
   "metadata": {},
   "outputs": [
    {
     "name": "stdout",
     "output_type": "stream",
     "text": [
      "  (0, 0)\t7\n",
      "  (0, 1)\t7\n",
      "  (1, 0)\t7\n",
      "  (1, 1)\t7\n",
      "  (2, 0)\t7\n",
      "  (2, 1)\t7\n"
     ]
    }
   ],
   "source": [
    "sev_matrix_sparse = sparse.csr_matrix(seven_matrix)\n",
    "print(sev_matrix_sparse)"
   ]
  },
  {
   "cell_type": "code",
   "execution_count": 34,
   "id": "ead04cf7",
   "metadata": {},
   "outputs": [
    {
     "name": "stdout",
     "output_type": "stream",
     "text": [
      "  (1, 1)\t1\n",
      "  (2, 0)\t3\n"
     ]
    }
   ],
   "source": [
    "matrix_large = np.array([[0,0,0,0,0,0,0,0,0,0,0,0,0],\n",
    "                         [0,1,0,0,0,0,0,0,0,0,0,0,0],\n",
    "                         [3,0,0,0,0,0,0,0,0,0,0,0,0]])\n",
    "matrix_large_sparse = sparse.csr_matrix(matrix_large)\n",
    "print(matrix_sparse)"
   ]
  },
  {
   "cell_type": "code",
   "execution_count": 35,
   "id": "36fc5a4c",
   "metadata": {},
   "outputs": [
    {
     "name": "stdout",
     "output_type": "stream",
     "text": [
      "[[0 0 0 0 0 0 0 0 0 0 0 0 0]\n",
      " [0 1 0 0 0 0 0 0 0 0 0 0 0]\n",
      " [3 0 0 0 0 0 0 0 0 0 0 0 0]]\n"
     ]
    }
   ],
   "source": [
    "# 희소행렬을 밀집행렬로\n",
    "print(matrix_large_sparse.toarray())"
   ]
  },
  {
   "cell_type": "code",
   "execution_count": 36,
   "id": "a6a04ada",
   "metadata": {},
   "outputs": [
    {
     "data": {
      "text/plain": [
       "matrix([[0, 0, 0, 0, 0, 0, 0, 0, 0, 0, 0, 0, 0],\n",
       "        [0, 1, 0, 0, 0, 0, 0, 0, 0, 0, 0, 0, 0],\n",
       "        [3, 0, 0, 0, 0, 0, 0, 0, 0, 0, 0, 0, 0]])"
      ]
     },
     "execution_count": 36,
     "metadata": {},
     "output_type": "execute_result"
    }
   ],
   "source": [
    "# np.matrix 객체로 반환\n",
    "matrix_large_sparse.todense()"
   ]
  },
  {
   "cell_type": "markdown",
   "id": "6237f716",
   "metadata": {},
   "source": [
    "### 1.4 원소 선택하기"
   ]
  },
  {
   "cell_type": "code",
   "execution_count": 46,
   "id": "dab6472f",
   "metadata": {},
   "outputs": [],
   "source": [
    "vector = np.array([1,2,3,4,5,6])\n",
    "matrix = np.array([[1,2,3],\n",
    "                   [4,5,6],\n",
    "                   [7,8,9]])"
   ]
  },
  {
   "cell_type": "code",
   "execution_count": 47,
   "id": "caef1225",
   "metadata": {},
   "outputs": [
    {
     "data": {
      "text/plain": [
       "3"
      ]
     },
     "execution_count": 47,
     "metadata": {},
     "output_type": "execute_result"
    }
   ],
   "source": [
    "vector[2]"
   ]
  },
  {
   "cell_type": "code",
   "execution_count": 48,
   "id": "8f39361a",
   "metadata": {},
   "outputs": [
    {
     "data": {
      "text/plain": [
       "5"
      ]
     },
     "execution_count": 48,
     "metadata": {},
     "output_type": "execute_result"
    }
   ],
   "source": [
    "matrix[1,1]"
   ]
  },
  {
   "cell_type": "code",
   "execution_count": 49,
   "id": "c796984d",
   "metadata": {},
   "outputs": [
    {
     "data": {
      "text/plain": [
       "array([1, 2, 3, 4, 5, 6])"
      ]
     },
     "execution_count": 49,
     "metadata": {},
     "output_type": "execute_result"
    }
   ],
   "source": [
    "vector[:]"
   ]
  },
  {
   "cell_type": "code",
   "execution_count": 50,
   "id": "e191cf36",
   "metadata": {},
   "outputs": [
    {
     "data": {
      "text/plain": [
       "array([[1, 2, 3],\n",
       "       [4, 5, 6]])"
      ]
     },
     "execution_count": 50,
     "metadata": {},
     "output_type": "execute_result"
    }
   ],
   "source": [
    "# 첫번째, 두번째 행과 모든 열 선택\n",
    "matrix[:2,:]"
   ]
  },
  {
   "cell_type": "code",
   "execution_count": 51,
   "id": "b7e2255b",
   "metadata": {},
   "outputs": [
    {
     "data": {
      "text/plain": [
       "array([[1, 2, 3],\n",
       "       [7, 8, 9]])"
      ]
     },
     "execution_count": 51,
     "metadata": {},
     "output_type": "execute_result"
    }
   ],
   "source": [
    "# 첫번째, 세번째 행 선택\n",
    "matrix[[0,2]]"
   ]
  },
  {
   "cell_type": "code",
   "execution_count": 54,
   "id": "44e5bb83",
   "metadata": {},
   "outputs": [
    {
     "data": {
      "text/plain": [
       "array([3, 4])"
      ]
     },
     "execution_count": 54,
     "metadata": {},
     "output_type": "execute_result"
    }
   ],
   "source": [
    "# (0,1),(2,0) 위치 원소 선택\n",
    "matrix[[0,1],[2,0]]"
   ]
  },
  {
   "cell_type": "code",
   "execution_count": 56,
   "id": "53c7f2bc",
   "metadata": {},
   "outputs": [
    {
     "data": {
      "text/plain": [
       "array([[False, False, False],\n",
       "       [False, False,  True],\n",
       "       [ True,  True,  True]])"
      ]
     },
     "execution_count": 56,
     "metadata": {},
     "output_type": "execute_result"
    }
   ],
   "source": [
    "mask = matrix > 5\n",
    "mask"
   ]
  },
  {
   "cell_type": "code",
   "execution_count": 58,
   "id": "cbd22e2a",
   "metadata": {},
   "outputs": [
    {
     "data": {
      "text/plain": [
       "array([6, 7, 8, 9])"
      ]
     },
     "execution_count": 58,
     "metadata": {},
     "output_type": "execute_result"
    }
   ],
   "source": [
    "matrix[mask]"
   ]
  },
  {
   "cell_type": "markdown",
   "id": "5536d0e1",
   "metadata": {},
   "source": [
    "### 1.5 행렬 정보 확인하기\n",
    "행렬 크기, 원소 개수, 차원"
   ]
  },
  {
   "cell_type": "code",
   "execution_count": 60,
   "id": "5853eef9",
   "metadata": {},
   "outputs": [],
   "source": [
    "matrix = np.array([[1,2,3,4],\n",
    "                   [5,6,7,8],\n",
    "                   [9,10,11,12]])"
   ]
  },
  {
   "cell_type": "code",
   "execution_count": 61,
   "id": "92836a0b",
   "metadata": {},
   "outputs": [
    {
     "data": {
      "text/plain": [
       "(3, 4)"
      ]
     },
     "execution_count": 61,
     "metadata": {},
     "output_type": "execute_result"
    }
   ],
   "source": [
    "matrix.shape"
   ]
  },
  {
   "cell_type": "code",
   "execution_count": 62,
   "id": "3eaaa5bb",
   "metadata": {},
   "outputs": [
    {
     "data": {
      "text/plain": [
       "12"
      ]
     },
     "execution_count": 62,
     "metadata": {},
     "output_type": "execute_result"
    }
   ],
   "source": [
    "# 원소의 개수 (행*열)\n",
    "matrix.size"
   ]
  },
  {
   "cell_type": "code",
   "execution_count": 64,
   "id": "93b6df5b",
   "metadata": {},
   "outputs": [
    {
     "data": {
      "text/plain": [
       "2"
      ]
     },
     "execution_count": 64,
     "metadata": {},
     "output_type": "execute_result"
    }
   ],
   "source": [
    "# 차원 수\n",
    "matrix.ndim"
   ]
  },
  {
   "cell_type": "code",
   "execution_count": 65,
   "id": "0dacea6c",
   "metadata": {},
   "outputs": [
    {
     "name": "stdout",
     "output_type": "stream",
     "text": [
      "int64\n"
     ]
    }
   ],
   "source": [
    "print(matrix.dtype)"
   ]
  },
  {
   "cell_type": "code",
   "execution_count": 66,
   "id": "b8e6b03a",
   "metadata": {},
   "outputs": [
    {
     "name": "stdout",
     "output_type": "stream",
     "text": [
      "8\n"
     ]
    }
   ],
   "source": [
    "# 원소 하나가 차지하는 바이트 크기\n",
    "print(matrix.itemsize)"
   ]
  },
  {
   "cell_type": "code",
   "execution_count": 67,
   "id": "4851005b",
   "metadata": {},
   "outputs": [
    {
     "name": "stdout",
     "output_type": "stream",
     "text": [
      "96\n"
     ]
    }
   ],
   "source": [
    "# 배열 전체가 차지하는 바이트 크기\n",
    "print(matrix.nbytes)"
   ]
  },
  {
   "cell_type": "markdown",
   "id": "28743b81",
   "metadata": {},
   "source": [
    "### 1.6 백터화 연산 적용하기\n",
    "배열의 원소에 어떤 함수를 적용하고 싶다."
   ]
  },
  {
   "cell_type": "code",
   "execution_count": 68,
   "id": "f27b1da2",
   "metadata": {},
   "outputs": [],
   "source": [
    "matrix = np.array([[1,2,3],\n",
    "                   [4,5,6],\n",
    "                   [7,8,9]])"
   ]
  },
  {
   "cell_type": "code",
   "execution_count": 69,
   "id": "474243cf",
   "metadata": {},
   "outputs": [],
   "source": [
    "# 100을 더하는 함수를 만든다.\n",
    "add_100 = lambda i: i+100"
   ]
  },
  {
   "cell_type": "code",
   "execution_count": 71,
   "id": "ed032551",
   "metadata": {},
   "outputs": [],
   "source": [
    "vectorized_add_100 = np.vectorize(add_100)"
   ]
  },
  {
   "cell_type": "code",
   "execution_count": 73,
   "id": "10403954",
   "metadata": {},
   "outputs": [
    {
     "data": {
      "text/plain": [
       "array([[101, 102, 103],\n",
       "       [104, 105, 106],\n",
       "       [107, 108, 109]])"
      ]
     },
     "execution_count": 73,
     "metadata": {},
     "output_type": "execute_result"
    }
   ],
   "source": [
    "# 행렬의 모든 원소에 함수를 적용한다.\n",
    "vectorized_add_100(matrix)"
   ]
  },
  {
   "cell_type": "code",
   "execution_count": 74,
   "id": "09609a6a",
   "metadata": {},
   "outputs": [
    {
     "data": {
      "text/plain": [
       "array([[101, 102, 103],\n",
       "       [104, 105, 106],\n",
       "       [107, 108, 109]])"
      ]
     },
     "execution_count": 74,
     "metadata": {},
     "output_type": "execute_result"
    }
   ],
   "source": [
    "# 브로드캐스팅: 넘파일 배열은 차원이 달라도 배열 간의 연산을 수행할 수 있다.\n",
    "matrix + 100"
   ]
  },
  {
   "cell_type": "code",
   "execution_count": 77,
   "id": "48428fd1",
   "metadata": {},
   "outputs": [
    {
     "data": {
      "text/plain": [
       "(3,)"
      ]
     },
     "execution_count": 77,
     "metadata": {},
     "output_type": "execute_result"
    }
   ],
   "source": [
    "np.array([100, 200, 300]).shape"
   ]
  },
  {
   "cell_type": "code",
   "execution_count": 79,
   "id": "dee061b2",
   "metadata": {},
   "outputs": [
    {
     "data": {
      "text/plain": [
       "(3, 1)"
      ]
     },
     "execution_count": 79,
     "metadata": {},
     "output_type": "execute_result"
    }
   ],
   "source": [
    "np.array([[100],[200],[300]]).shape"
   ]
  },
  {
   "cell_type": "code",
   "execution_count": 75,
   "id": "51f55935",
   "metadata": {},
   "outputs": [
    {
     "data": {
      "text/plain": [
       "array([[101, 202, 303],\n",
       "       [104, 205, 306],\n",
       "       [107, 208, 309]])"
      ]
     },
     "execution_count": 75,
     "metadata": {},
     "output_type": "execute_result"
    }
   ],
   "source": [
    "# (3,3) 크기 행렬에 (3,)인 벡터를 더하면 (1,3) 크기가 된 다음 행을 따라 반복된다.\n",
    "\n",
    "matrix + [100, 200, 300]"
   ]
  },
  {
   "cell_type": "code",
   "execution_count": 80,
   "id": "d3e0c0a5",
   "metadata": {},
   "outputs": [
    {
     "data": {
      "text/plain": [
       "array([[101, 102, 103],\n",
       "       [204, 205, 206],\n",
       "       [307, 308, 309]])"
      ]
     },
     "execution_count": 80,
     "metadata": {},
     "output_type": "execute_result"
    }
   ],
   "source": [
    "# (3,3) 크기 행렬에 (3,1) 크기 벡터를 더하면 열을 따라 반복된다.\n",
    "matrix + [[100],[200],[300]]"
   ]
  },
  {
   "cell_type": "markdown",
   "id": "75f382e2",
   "metadata": {},
   "source": [
    "### 1.7 최댓값, 최솟값 찾기"
   ]
  },
  {
   "cell_type": "code",
   "execution_count": 81,
   "id": "c5cbcf6a",
   "metadata": {},
   "outputs": [],
   "source": [
    "matrix = np.array([[1,2,3],\n",
    "                   [4,5,6],\n",
    "                   [7,8,9]])"
   ]
  },
  {
   "cell_type": "code",
   "execution_count": 82,
   "id": "e5edc43f",
   "metadata": {},
   "outputs": [
    {
     "data": {
      "text/plain": [
       "9"
      ]
     },
     "execution_count": 82,
     "metadata": {},
     "output_type": "execute_result"
    }
   ],
   "source": [
    "np.max(matrix)"
   ]
  },
  {
   "cell_type": "code",
   "execution_count": 83,
   "id": "e2ccf0f7",
   "metadata": {},
   "outputs": [
    {
     "data": {
      "text/plain": [
       "1"
      ]
     },
     "execution_count": 83,
     "metadata": {},
     "output_type": "execute_result"
    }
   ],
   "source": [
    "np.min(matrix)"
   ]
  },
  {
   "cell_type": "code",
   "execution_count": 84,
   "id": "c8784a8a",
   "metadata": {},
   "outputs": [
    {
     "data": {
      "text/plain": [
       "array([7, 8, 9])"
      ]
     },
     "execution_count": 84,
     "metadata": {},
     "output_type": "execute_result"
    }
   ],
   "source": [
    "# 각 열에서 최댓값\n",
    "np.max(matrix, axis = 0)"
   ]
  },
  {
   "cell_type": "code",
   "execution_count": 85,
   "id": "f2cc5518",
   "metadata": {},
   "outputs": [
    {
     "data": {
      "text/plain": [
       "array([3, 6, 9])"
      ]
     },
     "execution_count": 85,
     "metadata": {},
     "output_type": "execute_result"
    }
   ],
   "source": [
    "# 각 행에서 최댓값\n",
    "np.max(matrix, axis = 1)"
   ]
  },
  {
   "cell_type": "markdown",
   "id": "81372f91",
   "metadata": {},
   "source": [
    "### 1.8 평균, 분산, 표준편차 계산하기"
   ]
  },
  {
   "cell_type": "code",
   "execution_count": 86,
   "id": "43b15482",
   "metadata": {},
   "outputs": [
    {
     "data": {
      "text/plain": [
       "5.0"
      ]
     },
     "execution_count": 86,
     "metadata": {},
     "output_type": "execute_result"
    }
   ],
   "source": [
    "np.mean(matrix)"
   ]
  },
  {
   "cell_type": "code",
   "execution_count": 87,
   "id": "6542c01b",
   "metadata": {},
   "outputs": [
    {
     "data": {
      "text/plain": [
       "6.666666666666667"
      ]
     },
     "execution_count": 87,
     "metadata": {},
     "output_type": "execute_result"
    }
   ],
   "source": [
    "np.var(matrix)"
   ]
  },
  {
   "cell_type": "code",
   "execution_count": 88,
   "id": "34628ab4",
   "metadata": {},
   "outputs": [
    {
     "data": {
      "text/plain": [
       "2.581988897471611"
      ]
     },
     "execution_count": 88,
     "metadata": {},
     "output_type": "execute_result"
    }
   ],
   "source": [
    "np.std(matrix)"
   ]
  },
  {
   "cell_type": "code",
   "execution_count": 89,
   "id": "a025d7a1",
   "metadata": {},
   "outputs": [
    {
     "data": {
      "text/plain": [
       "array([4., 5., 6.])"
      ]
     },
     "execution_count": 89,
     "metadata": {},
     "output_type": "execute_result"
    }
   ],
   "source": [
    "np.mean(matrix, axis=0)"
   ]
  },
  {
   "cell_type": "markdown",
   "id": "38542b9f",
   "metadata": {},
   "source": [
    "### 1.9 배열 크기 바꾸기"
   ]
  },
  {
   "cell_type": "code",
   "execution_count": 90,
   "id": "9cd5aacb",
   "metadata": {},
   "outputs": [],
   "source": [
    "matrix = np.array([[1,2,3],\n",
    "                   [4,5,6],\n",
    "                   [7,8,9],\n",
    "                   [10,11,12]])"
   ]
  },
  {
   "cell_type": "code",
   "execution_count": 91,
   "id": "c019ddf6",
   "metadata": {},
   "outputs": [
    {
     "data": {
      "text/plain": [
       "array([[ 1,  2,  3,  4,  5,  6],\n",
       "       [ 7,  8,  9, 10, 11, 12]])"
      ]
     },
     "execution_count": 91,
     "metadata": {},
     "output_type": "execute_result"
    }
   ],
   "source": [
    "matrix.reshape(2,6) \n",
    "# 원소의 개수는 동일하게!"
   ]
  },
  {
   "cell_type": "markdown",
   "id": "191130b2",
   "metadata": {},
   "source": [
    "reshape에 사용할 수 있는 매개변수 -1은 가능한 많이라는 뜻으로 사용된다.  \n",
    "`reshape(1,-1)`은 행 하나에 열은 가능한 많게라는 의미이다."
   ]
  },
  {
   "cell_type": "code",
   "execution_count": 93,
   "id": "45470909",
   "metadata": {},
   "outputs": [
    {
     "data": {
      "text/plain": [
       "array([[ 1,  2,  3,  4,  5,  6,  7,  8,  9, 10, 11, 12]])"
      ]
     },
     "execution_count": 93,
     "metadata": {},
     "output_type": "execute_result"
    }
   ],
   "source": [
    "matrix.reshape(1,-1)"
   ]
  },
  {
   "cell_type": "code",
   "execution_count": 94,
   "id": "384bb526",
   "metadata": {},
   "outputs": [
    {
     "data": {
      "text/plain": [
       "array([ 1,  2,  3,  4,  5,  6,  7,  8,  9, 10, 11, 12])"
      ]
     },
     "execution_count": 94,
     "metadata": {},
     "output_type": "execute_result"
    }
   ],
   "source": [
    "# 정수 하나 입력하면 그 길이의 1차원 배열을 반환한다.\n",
    "matrix.reshape(12)"
   ]
  },
  {
   "cell_type": "code",
   "execution_count": 95,
   "id": "4a4eec94",
   "metadata": {},
   "outputs": [
    {
     "data": {
      "text/plain": [
       "array([ 1,  2,  3,  4,  5,  6,  7,  8,  9, 10, 11, 12])"
      ]
     },
     "execution_count": 95,
     "metadata": {},
     "output_type": "execute_result"
    }
   ],
   "source": [
    "# 1차원 배열로 바꿔준다.\n",
    "matrix.reshape(-1)"
   ]
  },
  {
   "cell_type": "code",
   "execution_count": 96,
   "id": "5e69e3b7",
   "metadata": {},
   "outputs": [
    {
     "data": {
      "text/plain": [
       "array([ 1,  2,  3,  4,  5,  6,  7,  8,  9, 10, 11, 12])"
      ]
     },
     "execution_count": 96,
     "metadata": {},
     "output_type": "execute_result"
    }
   ],
   "source": [
    "matrix.ravel()"
   ]
  },
  {
   "cell_type": "code",
   "execution_count": 102,
   "id": "ae88213b",
   "metadata": {},
   "outputs": [
    {
     "data": {
      "text/plain": [
       "array([ 1,  2,  3,  4,  5,  6,  7,  8,  9, 10, 11, 12])"
      ]
     },
     "execution_count": 102,
     "metadata": {},
     "output_type": "execute_result"
    }
   ],
   "source": [
    "matrix.flatten()"
   ]
  },
  {
   "cell_type": "markdown",
   "id": "92c21a41",
   "metadata": {},
   "source": [
    "### 1.10 벡터나 행렬 전치하기"
   ]
  },
  {
   "cell_type": "code",
   "execution_count": 97,
   "id": "bdc6529a",
   "metadata": {},
   "outputs": [
    {
     "data": {
      "text/plain": [
       "array([[ 1,  2,  3],\n",
       "       [ 4,  5,  6],\n",
       "       [ 7,  8,  9],\n",
       "       [10, 11, 12]])"
      ]
     },
     "execution_count": 97,
     "metadata": {},
     "output_type": "execute_result"
    }
   ],
   "source": [
    "matrix"
   ]
  },
  {
   "cell_type": "code",
   "execution_count": 98,
   "id": "a1fb2ea3",
   "metadata": {},
   "outputs": [
    {
     "data": {
      "text/plain": [
       "array([[ 1,  4,  7, 10],\n",
       "       [ 2,  5,  8, 11],\n",
       "       [ 3,  6,  9, 12]])"
      ]
     },
     "execution_count": 98,
     "metadata": {},
     "output_type": "execute_result"
    }
   ],
   "source": [
    "matrix.T"
   ]
  },
  {
   "cell_type": "code",
   "execution_count": 99,
   "id": "b9b39776",
   "metadata": {},
   "outputs": [
    {
     "data": {
      "text/plain": [
       "array([1, 2, 3, 4, 5, 6])"
      ]
     },
     "execution_count": 99,
     "metadata": {},
     "output_type": "execute_result"
    }
   ],
   "source": [
    "np.array([1,2,3,4,5,6]).T"
   ]
  },
  {
   "cell_type": "code",
   "execution_count": 100,
   "id": "a5feecbc",
   "metadata": {},
   "outputs": [
    {
     "data": {
      "text/plain": [
       "array([[1],\n",
       "       [2],\n",
       "       [3],\n",
       "       [4],\n",
       "       [5],\n",
       "       [6]])"
      ]
     },
     "execution_count": 100,
     "metadata": {},
     "output_type": "execute_result"
    }
   ],
   "source": [
    "# 이렇게 해줘야 전치 가능\n",
    "np.array([[1,2,3,4,5,6]]).T"
   ]
  },
  {
   "cell_type": "code",
   "execution_count": 101,
   "id": "10f47713",
   "metadata": {},
   "outputs": [
    {
     "data": {
      "text/plain": [
       "array([[ 1,  4,  7, 10],\n",
       "       [ 2,  5,  8, 11],\n",
       "       [ 3,  6,  9, 12]])"
      ]
     },
     "execution_count": 101,
     "metadata": {},
     "output_type": "execute_result"
    }
   ],
   "source": [
    "matrix.transpose()"
   ]
  },
  {
   "cell_type": "markdown",
   "id": "544154fb",
   "metadata": {},
   "source": [
    "### 1.12 행렬의 랭크 구하기"
   ]
  },
  {
   "cell_type": "code",
   "execution_count": 103,
   "id": "759b47c3",
   "metadata": {},
   "outputs": [],
   "source": [
    "matrix = np.array([[1,1,1],\n",
    "                   [1,1,10],\n",
    "                   [1,1,15]])"
   ]
  },
  {
   "cell_type": "code",
   "execution_count": 104,
   "id": "f0fed396",
   "metadata": {},
   "outputs": [
    {
     "data": {
      "text/plain": [
       "2"
      ]
     },
     "execution_count": 104,
     "metadata": {},
     "output_type": "execute_result"
    }
   ],
   "source": [
    "np.linalg.matrix_rank(matrix)"
   ]
  },
  {
   "cell_type": "markdown",
   "id": "f5842f36",
   "metadata": {},
   "source": [
    "### 1.13 행렬식 계산하기 (determinant)"
   ]
  },
  {
   "cell_type": "code",
   "execution_count": 107,
   "id": "58a125f5",
   "metadata": {},
   "outputs": [],
   "source": [
    "matrix = np.array([[1,2,3],\n",
    "                   [2,4,6],\n",
    "                   [3,8,9]])"
   ]
  },
  {
   "cell_type": "code",
   "execution_count": 108,
   "id": "8c38f1a9",
   "metadata": {},
   "outputs": [
    {
     "data": {
      "text/plain": [
       "0.0"
      ]
     },
     "execution_count": 108,
     "metadata": {},
     "output_type": "execute_result"
    }
   ],
   "source": [
    "np.linalg.det(matrix)"
   ]
  },
  {
   "cell_type": "markdown",
   "id": "bdc43d9b",
   "metadata": {},
   "source": [
    "### 1.14 행렬의 대각원소 추출하기"
   ]
  },
  {
   "cell_type": "code",
   "execution_count": 109,
   "id": "92be81bc",
   "metadata": {},
   "outputs": [
    {
     "data": {
      "text/plain": [
       "array([1, 4, 9])"
      ]
     },
     "execution_count": 109,
     "metadata": {},
     "output_type": "execute_result"
    }
   ],
   "source": [
    "matrix.diagonal()"
   ]
  },
  {
   "cell_type": "code",
   "execution_count": 120,
   "id": "e8d1b80e",
   "metadata": {},
   "outputs": [
    {
     "data": {
      "text/plain": [
       "array([2, 6])"
      ]
     },
     "execution_count": 120,
     "metadata": {},
     "output_type": "execute_result"
    }
   ],
   "source": [
    "# 주 대각선에서 벗어난 대각원소 반환\n",
    "# 주 대각선 하나 위의 대각원소\n",
    "matrix.diagonal(offset=1)"
   ]
  },
  {
   "cell_type": "code",
   "execution_count": 121,
   "id": "862a0b92",
   "metadata": {},
   "outputs": [
    {
     "data": {
      "text/plain": [
       "array([2, 8])"
      ]
     },
     "execution_count": 121,
     "metadata": {},
     "output_type": "execute_result"
    }
   ],
   "source": [
    "# 주 대각선 하나 아래의 대각원소\n",
    "matrix.diagonal(offset=-1)"
   ]
  },
  {
   "cell_type": "markdown",
   "id": "2b7bc29f",
   "metadata": {},
   "source": [
    "### 1.15 행렬의 대각합 계산하기"
   ]
  },
  {
   "cell_type": "code",
   "execution_count": 122,
   "id": "59dc3e8a",
   "metadata": {},
   "outputs": [
    {
     "data": {
      "text/plain": [
       "14"
      ]
     },
     "execution_count": 122,
     "metadata": {},
     "output_type": "execute_result"
    }
   ],
   "source": [
    "matrix.trace()"
   ]
  },
  {
   "cell_type": "code",
   "execution_count": 123,
   "id": "ed986593",
   "metadata": {},
   "outputs": [
    {
     "data": {
      "text/plain": [
       "14"
      ]
     },
     "execution_count": 123,
     "metadata": {},
     "output_type": "execute_result"
    }
   ],
   "source": [
    "sum(matrix.diagonal())"
   ]
  },
  {
   "cell_type": "markdown",
   "id": "eef8997a",
   "metadata": {},
   "source": [
    "### 1.16 고유값 고유벡터 찾기"
   ]
  },
  {
   "cell_type": "code",
   "execution_count": 124,
   "id": "69799865",
   "metadata": {},
   "outputs": [],
   "source": [
    "matrix = np.array([[1,-1,3],\n",
    "                   [1,1,6],\n",
    "                   [3,8,9]])"
   ]
  },
  {
   "cell_type": "code",
   "execution_count": 125,
   "id": "c0ab1e83",
   "metadata": {},
   "outputs": [],
   "source": [
    "eigenvalues, eigenvectors = np.linalg.eig(matrix)"
   ]
  },
  {
   "cell_type": "code",
   "execution_count": 126,
   "id": "e72bc89f",
   "metadata": {},
   "outputs": [
    {
     "data": {
      "text/plain": [
       "array([13.55075847,  0.74003145, -3.29078992])"
      ]
     },
     "execution_count": 126,
     "metadata": {},
     "output_type": "execute_result"
    }
   ],
   "source": [
    "eigenvalues"
   ]
  },
  {
   "cell_type": "code",
   "execution_count": 127,
   "id": "21a2fa11",
   "metadata": {},
   "outputs": [
    {
     "data": {
      "text/plain": [
       "array([[-0.17622017, -0.96677403, -0.53373322],\n",
       "       [-0.435951  ,  0.2053623 , -0.64324848],\n",
       "       [-0.88254925,  0.15223105,  0.54896288]])"
      ]
     },
     "execution_count": 127,
     "metadata": {},
     "output_type": "execute_result"
    }
   ],
   "source": [
    "eigenvectors"
   ]
  },
  {
   "cell_type": "markdown",
   "id": "08ee2261",
   "metadata": {},
   "source": [
    "### 1.17 점곱 계산하기 dot product"
   ]
  },
  {
   "cell_type": "code",
   "execution_count": 128,
   "id": "871d8567",
   "metadata": {},
   "outputs": [],
   "source": [
    "vector_a = np.array([1,2,3])\n",
    "vector_b = np.array([4,5,6])"
   ]
  },
  {
   "cell_type": "code",
   "execution_count": 129,
   "id": "a2d6a425",
   "metadata": {},
   "outputs": [
    {
     "data": {
      "text/plain": [
       "32"
      ]
     },
     "execution_count": 129,
     "metadata": {},
     "output_type": "execute_result"
    }
   ],
   "source": [
    "np.dot(vector_a, vector_b)"
   ]
  },
  {
   "cell_type": "code",
   "execution_count": 130,
   "id": "f05d158f",
   "metadata": {},
   "outputs": [
    {
     "data": {
      "text/plain": [
       "32"
      ]
     },
     "execution_count": 130,
     "metadata": {},
     "output_type": "execute_result"
    }
   ],
   "source": [
    "vector_a @ vector_b"
   ]
  },
  {
   "cell_type": "markdown",
   "id": "b3ef875e",
   "metadata": {},
   "source": [
    "### 1.18 행렬 덧셈과 뺄셈"
   ]
  },
  {
   "cell_type": "code",
   "execution_count": 131,
   "id": "ff580bd8",
   "metadata": {},
   "outputs": [],
   "source": [
    "matrix_a = np.array([[1,1,1],\n",
    "                     [1,1,1],\n",
    "                     [1,1,2]])\n",
    "matrix_b = np.array([[1,3,1],\n",
    "                     [1,3,1],\n",
    "                     [1,3,8]])"
   ]
  },
  {
   "cell_type": "code",
   "execution_count": 132,
   "id": "e9e47e5d",
   "metadata": {},
   "outputs": [
    {
     "data": {
      "text/plain": [
       "array([[ 2,  4,  2],\n",
       "       [ 2,  4,  2],\n",
       "       [ 2,  4, 10]])"
      ]
     },
     "execution_count": 132,
     "metadata": {},
     "output_type": "execute_result"
    }
   ],
   "source": [
    "np.add(matrix_a, matrix_b)"
   ]
  },
  {
   "cell_type": "code",
   "execution_count": 133,
   "id": "48f757e6",
   "metadata": {},
   "outputs": [
    {
     "data": {
      "text/plain": [
       "array([[ 0, -2,  0],\n",
       "       [ 0, -2,  0],\n",
       "       [ 0, -2, -6]])"
      ]
     },
     "execution_count": 133,
     "metadata": {},
     "output_type": "execute_result"
    }
   ],
   "source": [
    "np.subtract(matrix_a, matrix_b)"
   ]
  },
  {
   "cell_type": "code",
   "execution_count": 134,
   "id": "990d6223",
   "metadata": {},
   "outputs": [
    {
     "data": {
      "text/plain": [
       "array([[ 2,  4,  2],\n",
       "       [ 2,  4,  2],\n",
       "       [ 2,  4, 10]])"
      ]
     },
     "execution_count": 134,
     "metadata": {},
     "output_type": "execute_result"
    }
   ],
   "source": [
    "matrix_a+matrix_b"
   ]
  },
  {
   "cell_type": "markdown",
   "id": "a673ef78",
   "metadata": {},
   "source": [
    "### 1.19 행렬 곱셈"
   ]
  },
  {
   "cell_type": "code",
   "execution_count": 135,
   "id": "95bbd878",
   "metadata": {},
   "outputs": [],
   "source": [
    "matrix_a = np.array([[1,1],\n",
    "                     [1,2]])\n",
    "matrix_b = np.array([[1,3],\n",
    "                     [1,2]])"
   ]
  },
  {
   "cell_type": "code",
   "execution_count": 136,
   "id": "e1db2322",
   "metadata": {},
   "outputs": [
    {
     "data": {
      "text/plain": [
       "array([[2, 5],\n",
       "       [3, 7]])"
      ]
     },
     "execution_count": 136,
     "metadata": {},
     "output_type": "execute_result"
    }
   ],
   "source": [
    "np.dot(matrix_a, matrix_b)"
   ]
  },
  {
   "cell_type": "code",
   "execution_count": 137,
   "id": "37e95eb9",
   "metadata": {},
   "outputs": [
    {
     "data": {
      "text/plain": [
       "array([[2, 5],\n",
       "       [3, 7]])"
      ]
     },
     "execution_count": 137,
     "metadata": {},
     "output_type": "execute_result"
    }
   ],
   "source": [
    "matrix_a @ matrix_b"
   ]
  },
  {
   "cell_type": "code",
   "execution_count": 138,
   "id": "b9329434",
   "metadata": {},
   "outputs": [
    {
     "data": {
      "text/plain": [
       "array([[1, 3],\n",
       "       [1, 4]])"
      ]
     },
     "execution_count": 138,
     "metadata": {},
     "output_type": "execute_result"
    }
   ],
   "source": [
    "# 원소별 곱셈\n",
    "matrix_a * matrix_b"
   ]
  },
  {
   "cell_type": "markdown",
   "id": "cfb21d96",
   "metadata": {},
   "source": [
    "### 1.20 역행렬"
   ]
  },
  {
   "cell_type": "code",
   "execution_count": 139,
   "id": "9bd84fa3",
   "metadata": {},
   "outputs": [],
   "source": [
    "matrix = np.array([[1,4],\n",
    "                   [2,5]])"
   ]
  },
  {
   "cell_type": "code",
   "execution_count": 140,
   "id": "77a42329",
   "metadata": {},
   "outputs": [
    {
     "data": {
      "text/plain": [
       "array([[-1.66666667,  1.33333333],\n",
       "       [ 0.66666667, -0.33333333]])"
      ]
     },
     "execution_count": 140,
     "metadata": {},
     "output_type": "execute_result"
    }
   ],
   "source": [
    "np.linalg.inv(matrix)"
   ]
  },
  {
   "cell_type": "code",
   "execution_count": 141,
   "id": "dce0dd1e",
   "metadata": {},
   "outputs": [
    {
     "data": {
      "text/plain": [
       "array([[1., 0.],\n",
       "       [0., 1.]])"
      ]
     },
     "execution_count": 141,
     "metadata": {},
     "output_type": "execute_result"
    }
   ],
   "source": [
    "matrix @ np.linalg.inv(matrix)"
   ]
  },
  {
   "cell_type": "markdown",
   "id": "dec52ec4",
   "metadata": {},
   "source": [
    "### 1.21 난수 생성하기"
   ]
  },
  {
   "cell_type": "code",
   "execution_count": 145,
   "id": "95f7f902",
   "metadata": {},
   "outputs": [],
   "source": [
    "np.random.seed(0)"
   ]
  },
  {
   "cell_type": "code",
   "execution_count": 143,
   "id": "a078693d",
   "metadata": {},
   "outputs": [
    {
     "data": {
      "text/plain": [
       "array([0.5488135 , 0.71518937, 0.60276338])"
      ]
     },
     "execution_count": 143,
     "metadata": {},
     "output_type": "execute_result"
    }
   ],
   "source": [
    "# 0.0과 1.0 사이에서 세개의 실수 난수를 생성\n",
    "np.random.random(3)"
   ]
  },
  {
   "cell_type": "code",
   "execution_count": 146,
   "id": "29c6d480",
   "metadata": {},
   "outputs": [
    {
     "data": {
      "text/plain": [
       "array([6, 1, 4])"
      ]
     },
     "execution_count": 146,
     "metadata": {},
     "output_type": "execute_result"
    }
   ],
   "source": [
    "# 1,10 사이에서 세개의 정수 난수\n",
    "np.random.randint(1,11,3)"
   ]
  },
  {
   "cell_type": "code",
   "execution_count": 147,
   "id": "8795539b",
   "metadata": {},
   "outputs": [
    {
     "data": {
      "text/plain": [
       "array([ 0.07085926,  0.07304142, -1.42232584])"
      ]
     },
     "execution_count": 147,
     "metadata": {},
     "output_type": "execute_result"
    }
   ],
   "source": [
    "# 평균 0 표준편차 1인 정규분포에서 난수\n",
    "np.random.normal(0.0, 1.0, 3)"
   ]
  }
 ],
 "metadata": {
  "kernelspec": {
   "display_name": "Python 3",
   "language": "python",
   "name": "python3"
  },
  "language_info": {
   "codemirror_mode": {
    "name": "ipython",
    "version": 3
   },
   "file_extension": ".py",
   "mimetype": "text/x-python",
   "name": "python",
   "nbconvert_exporter": "python",
   "pygments_lexer": "ipython3",
   "version": "3.7.10"
  }
 },
 "nbformat": 4,
 "nbformat_minor": 5
}
